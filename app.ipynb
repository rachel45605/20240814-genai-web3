{
 "cells": [
  {
   "cell_type": "code",
   "execution_count": 1,
   "id": "3c978769",
   "metadata": {},
   "outputs": [
    {
     "name": "stdout",
     "output_type": "stream",
     "text": [
      "Requirement already satisfied: flask in /Users/rachelchua/opt/anaconda3/lib/python3.9/site-packages (1.1.2)\n",
      "Requirement already satisfied: itsdangerous>=0.24 in /Users/rachelchua/opt/anaconda3/lib/python3.9/site-packages (from flask) (2.0.1)\n",
      "Requirement already satisfied: click>=5.1 in /Users/rachelchua/opt/anaconda3/lib/python3.9/site-packages (from flask) (8.1.7)\n",
      "Requirement already satisfied: Werkzeug>=0.15 in /Users/rachelchua/opt/anaconda3/lib/python3.9/site-packages (from flask) (2.0.2)\n",
      "Requirement already satisfied: Jinja2>=2.10.1 in /Users/rachelchua/opt/anaconda3/lib/python3.9/site-packages (from flask) (2.11.3)\n",
      "Requirement already satisfied: MarkupSafe>=0.23 in /Users/rachelchua/opt/anaconda3/lib/python3.9/site-packages (from Jinja2>=2.10.1->flask) (1.1.1)\n",
      "Note: you may need to restart the kernel to use updated packages.\n"
     ]
    }
   ],
   "source": [
    "pip install flask"
   ]
  },
  {
   "cell_type": "code",
   "execution_count": null,
   "id": "0fa1ded1",
   "metadata": {},
   "outputs": [
    {
     "name": "stdout",
     "output_type": "stream",
     "text": [
      " * Serving Flask app \"__main__\" (lazy loading)\n",
      " * Environment: production\n",
      "\u001b[31m   WARNING: This is a development server. Do not use it in a production deployment.\u001b[0m\n",
      "\u001b[2m   Use a production WSGI server instead.\u001b[0m\n",
      " * Debug mode: off\n"
     ]
    },
    {
     "name": "stderr",
     "output_type": "stream",
     "text": [
      " * Running on http://127.0.0.1:5000/ (Press CTRL+C to quit)\n"
     ]
    }
   ],
   "source": [
    "from flask import Flask, render_template, request \n",
    "\n",
    "app = Flask(__name__)\n",
    "\n",
    "@app.route(\"/\", methods= [\"GET\",\"POST\"])\n",
    "def indec():\n",
    "    return(render_template(\"index.html\"))\n",
    "\n",
    "if __name__ == \"__main__\":\n",
    "    app.run()"
   ]
  },
  {
   "cell_type": "code",
   "execution_count": null,
   "id": "ddea9937",
   "metadata": {},
   "outputs": [],
   "source": []
  }
 ],
 "metadata": {
  "kernelspec": {
   "display_name": "Python 3 (ipykernel)",
   "language": "python",
   "name": "python3"
  },
  "language_info": {
   "codemirror_mode": {
    "name": "ipython",
    "version": 3
   },
   "file_extension": ".py",
   "mimetype": "text/x-python",
   "name": "python",
   "nbconvert_exporter": "python",
   "pygments_lexer": "ipython3",
   "version": "3.9.7"
  }
 },
 "nbformat": 4,
 "nbformat_minor": 5
}
